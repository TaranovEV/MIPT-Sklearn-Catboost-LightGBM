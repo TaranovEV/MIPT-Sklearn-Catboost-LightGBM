{
 "cells": [
  {
   "cell_type": "markdown",
   "metadata": {},
   "source": [
    "### Упражнение 3\n",
    "\n",
    "1. Обучите kNN и полиномиальную регрессию [задаче](https://www.kaggle.com/rodolfomendes/abalone-dataset#abalone.csv) определения возраста морских ушек. \n",
    "\n",
    "- Обучите бэггинг на [задаче](https://www.kaggle.com/rodolfomendes/abalone-dataset#abalone.csv) определения возраста морских ушек. В качестве базовых моделей попробуйте деревья решений, kNN, полиномиальную регрессию (ridge) (можно обогатить логарифмом признаков).\n",
    "\n",
    "\n",
    "Для каждой из моделей подберите параметры. Сначала подбирается параметр `n_estimators`, а затем по очереди настраиваются остальные части модели."
   ]
  },
  {
   "cell_type": "markdown",
   "metadata": {},
   "source": [
    "Обучите kNN и полиномиальную регрессию задаче определения возраста морских ушек."
   ]
  },
  {
   "cell_type": "markdown",
   "metadata": {},
   "source": [
    "#### KNN"
   ]
  },
  {
   "cell_type": "code",
   "execution_count": 663,
   "metadata": {},
   "outputs": [
    {
     "name": "stdout",
     "output_type": "stream",
     "text": [
      "best score from grid search: 0.513\n",
      "{'metric': 'euclidean', 'n_neighbors': 31}\n"
     ]
    }
   ],
   "source": [
    "X = data_reg.drop(['Age'], axis=1)\n",
    "y = data_reg['Age']\n",
    "clf = KNeighborsRegressor(weights='distance')\n",
    "param_grid = {'n_neighbors': list(range(1, 50)), \n",
    "              'metric': ['euclidean', \n",
    "                        'manhattan',\n",
    "                         'minkowski',\n",
    "                        'chebyshev']  }\n",
    "             \n",
    "X_train, X_test, y_train, y_test = train_test_split(X, y, test_size=0.2,random_state = 42)\n",
    "grid_search = GridSearchCV(clf, param_grid, cv=5,verbose=0,\n",
    "                           scoring='r2',n_jobs=-1)\n",
    "grid_search.fit(X_train, y_train)\n",
    "\n",
    "\n",
    "print((\"best score from grid search: %.3f\"\n",
    "                   % grid_search.score(X_test, y_test)))\n",
    "print(grid_search.best_params_)"
   ]
  },
  {
   "cell_type": "markdown",
   "metadata": {},
   "source": [
    "#### PolynomialFeatures"
   ]
  },
  {
   "cell_type": "code",
   "execution_count": null,
   "metadata": {},
   "outputs": [],
   "source": [
    "from sklearn.pipeline import make_pipeline\n",
    "X = data_reg.drop(['Age'], axis=1)\n",
    "y = data_reg['Age']\n",
    "\n",
    "def PolynomialRegression(degree=2, **kwargs):\n",
    "    return make_pipeline(PolynomialFeatures(degree), Ridge(**kwargs))\n",
    "\n",
    "param_grid = {'polynomialfeatures__degree': np.arange(4),\n",
    "              'ridge__alpha' : [1,0.0001,0.001,0.01,0.1], \n",
    "              'ridge__fit_intercept' : [True, False],\n",
    "              'ridge__normalize': [True, False]}\n",
    "X_train, X_test, y_train, y_test = train_test_split(X, y, test_size=0.2,random_state=42)\n",
    "grid_search = GridSearchCV(PolynomialRegression(), param_grid, cv=5, scoring='r2')\n",
    "grid_search.fit(X_train, y_train)\n",
    "print((\"best score from grid search: %.3f\"\n",
    "                   % grid_search.score(X_test, y_test)))\n",
    "print(grid_search.best_params_)"
   ]
  },
  {
   "cell_type": "markdown",
   "metadata": {},
   "source": [
    "Обучите бэггинг на задаче определения возраста морских ушек. В качестве базовых моделей попробуйте деревья решений, kNN, полиномиальную регрессию (ridge) (можно обогатить логарифмом признаков)."
   ]
  },
  {
   "cell_type": "markdown",
   "metadata": {},
   "source": [
    "#### DecisionTreeRegressor"
   ]
  },
  {
   "cell_type": "code",
   "execution_count": 713,
   "metadata": {},
   "outputs": [
    {
     "name": "stdout",
     "output_type": "stream",
     "text": [
      "best score from grid search: 0.476\n",
      "{'n_estimators': 19}\n"
     ]
    }
   ],
   "source": [
    "#сначала подбираем 'n_estimators'\n",
    "X = data_reg.drop(['Age'], axis=1)\n",
    "y = data_reg['Age']\n",
    "clf = BaggingRegressor(base_estimator=DecisionTreeRegressor(),\n",
    "                          random_state=42)\n",
    "param_grid = {'n_estimators': list(range(1, 20))}\n",
    "X_train, X_test, y_train, y_test = train_test_split(X, y, test_size=0.2,random_state = 42)\n",
    "grid_search = GridSearchCV(clf, param_grid, cv=5,verbose=0,\n",
    "                           scoring='r2',n_jobs=-1)\n",
    "grid_search.fit(X_train, y_train)\n",
    "\n",
    "\n",
    "print((\"best score from grid search: %.3f\"\n",
    "                   % grid_search.score(X_test, y_test)))\n",
    "print(grid_search.best_params_)"
   ]
  },
  {
   "cell_type": "code",
   "execution_count": 719,
   "metadata": {},
   "outputs": [
    {
     "name": "stdout",
     "output_type": "stream",
     "text": [
      "best score from grid search: 0.516\n",
      "{'base_estimator__max_depth': 11, 'base_estimator__max_features': 5, 'base_estimator__max_leaf_nodes': 32, 'base_estimator__min_impurity_decrease': 0.0001, 'base_estimator__min_impurity_split': 0.0001, 'base_estimator__min_samples_leaf': 24, 'base_estimator__min_samples_split': 54}\n"
     ]
    }
   ],
   "source": [
    "#теперь подбираем другие параметры\n",
    "X = data_reg.drop(['Age'], axis=1)\n",
    "y = data_reg['Age']\n",
    "clf = BaggingRegressor(base_estimator=DecisionTreeRegressor(),\n",
    "                           n_estimators=19,\n",
    "                          random_state=42)\n",
    "param_grid = {'base_estimator__max_depth': np.arange(10,12),\n",
    "             'base_estimator__min_samples_split':np.arange(54,56),\n",
    "             'base_estimator__min_samples_leaf':np.arange(23,25),\n",
    "              'base_estimator__max_features': np.arange(1,6),\n",
    "              \n",
    "              'base_estimator__max_leaf_nodes': np.arange(28,33),\n",
    "               'base_estimator__min_impurity_decrease': [0.0001,0.00001,0.000001,0.0000001],\n",
    "               'base_estimator__min_impurity_split': [0.0001,0.00001,0.000001,0.0000001]}\n",
    "X_train, X_test, y_train, y_test = train_test_split(X, y, test_size=0.2,random_state = 42)\n",
    "grid_search = GridSearchCV(clf, param_grid, cv=5,verbose=0,\n",
    "                           scoring='r2',n_jobs=-1)\n",
    "grid_search.fit(X_train, y_train)\n",
    "\n",
    "\n",
    "print((\"best score from grid search: %.3f\"\n",
    "                   % grid_search.score(X_test, y_test)))\n",
    "print(grid_search.best_params_)"
   ]
  },
  {
   "cell_type": "markdown",
   "metadata": {},
   "source": [
    "#### KNN"
   ]
  },
  {
   "cell_type": "code",
   "execution_count": 720,
   "metadata": {},
   "outputs": [
    {
     "name": "stdout",
     "output_type": "stream",
     "text": [
      "best score from grid search: 0.462\n",
      "{'n_estimators': 18}\n"
     ]
    }
   ],
   "source": [
    "#сначала подбираем 'n_estimators'\n",
    "X = data_reg.drop(['Age'], axis=1)\n",
    "y = data_reg['Age']\n",
    "clf = BaggingRegressor(base_estimator=KNeighborsRegressor(weights='distance'),\n",
    "                          random_state=42)\n",
    "param_grid = {'n_estimators': list(range(1, 20))}\n",
    "X_train, X_test, y_train, y_test = train_test_split(X, y, test_size=0.2,random_state = 42)\n",
    "grid_search = GridSearchCV(clf, param_grid, cv=5,verbose=0,\n",
    "                           scoring='r2',n_jobs=-1)\n",
    "grid_search.fit(X_train, y_train)\n",
    "\n",
    "\n",
    "print((\"best score from grid search: %.3f\"\n",
    "                   % grid_search.score(X_test, y_test)))\n",
    "print(grid_search.best_params_)"
   ]
  },
  {
   "cell_type": "code",
   "execution_count": 722,
   "metadata": {},
   "outputs": [
    {
     "name": "stdout",
     "output_type": "stream",
     "text": [
      "best score from grid search: 0.511\n",
      "{'base_estimator__metric': 'euclidean', 'base_estimator__n_neighbors': 33}\n"
     ]
    }
   ],
   "source": [
    "#теперь подбираем другие параметры\n",
    "X = data_reg.drop(['Age'], axis=1)\n",
    "y = data_reg['Age']\n",
    "clf = BaggingRegressor(base_estimator=KNeighborsRegressor(weights='distance'),\n",
    "                           n_estimators=18,\n",
    "                          random_state=42)\n",
    "param_grid = {'base_estimator__n_neighbors': list(range(1, 50)), \n",
    "              'base_estimator__metric': ['euclidean', \n",
    "                                        'manhattan',\n",
    "                                         'minkowski',\n",
    "                                        'chebyshev'],\n",
    "                                                         }\n",
    "X_train, X_test, y_train, y_test = train_test_split(X, y, test_size=0.2,random_state = 42)\n",
    "grid_search = GridSearchCV(clf, param_grid, cv=5,verbose=0,\n",
    "                           scoring='r2',n_jobs=-1)\n",
    "grid_search.fit(X_train, y_train)\n",
    "\n",
    "\n",
    "print((\"best score from grid search: %.3f\"\n",
    "                   % grid_search.score(X_test, y_test)))\n",
    "print(grid_search.best_params_)"
   ]
  },
  {
   "cell_type": "markdown",
   "metadata": {},
   "source": [
    "#### PolynomialFeatures"
   ]
  },
  {
   "cell_type": "code",
   "execution_count": 718,
   "metadata": {},
   "outputs": [
    {
     "name": "stdout",
     "output_type": "stream",
     "text": [
      "best score from grid search: 0.456\n",
      "{'n_estimators': 14}\n"
     ]
    }
   ],
   "source": [
    "#сначала подбираем 'n_estimators'\n",
    "X = data_reg.drop(['Age'], axis=1)\n",
    "y = data_reg['Age']\n",
    "\n",
    "def PolynomialRegression(degree=2, **kwargs):\n",
    "    return make_pipeline(PolynomialFeatures(degree), Ridge(**kwargs))\n",
    "\n",
    "clf = BaggingRegressor(base_estimator=PolynomialRegression(),\n",
    "                          random_state=42)\n",
    "param_grid = {'n_estimators': list(range(1, 20))}\n",
    "X_train, X_test, y_train, y_test = train_test_split(X, y, test_size=0.2,random_state = 42)\n",
    "grid_search = GridSearchCV(clf, param_grid, cv=5,verbose=0,\n",
    "                           scoring='r2',n_jobs=-1)\n",
    "grid_search.fit(X_train, y_train)\n",
    "\n",
    "\n",
    "print((\"best score from grid search: %.3f\"\n",
    "                   % grid_search.score(X_test, y_test)))\n",
    "print(grid_search.best_params_)"
   ]
  },
  {
   "cell_type": "code",
   "execution_count": 725,
   "metadata": {},
   "outputs": [
    {
     "name": "stdout",
     "output_type": "stream",
     "text": [
      "best score from grid search: 0.457\n",
      "{'base_estimator__polynomialfeatures__degree': 2, 'base_estimator__ridge__alpha': 0.001, 'base_estimator__ridge__fit_intercept': True, 'base_estimator__ridge__normalize': True}\n"
     ]
    }
   ],
   "source": [
    "X = data_reg.drop(['Age'], axis=1)\n",
    "y = data_reg['Age']\n",
    "\n",
    "def PolynomialRegression(degree=2, **kwargs):\n",
    "    return make_pipeline(PolynomialFeatures(degree), Ridge(**kwargs))\n",
    "\n",
    "clf = BaggingRegressor(base_estimator=PolynomialRegression(),\n",
    "                          n_estimators=14,\n",
    "                          random_state=42)\n",
    "param_grid = {'base_estimator__polynomialfeatures__degree': np.arange(5),\n",
    "              'base_estimator__ridge__alpha' : [1,0.0001,0.001,0.01,0.1], \n",
    "              'base_estimator__ridge__fit_intercept' : [True, False],\n",
    "              'base_estimator__ridge__normalize': [True, False]}\n",
    "X_train, X_test, y_train, y_test = train_test_split(X, y, test_size=0.2,random_state = 42)\n",
    "grid_search = GridSearchCV(clf, param_grid, cv=5,verbose=0,\n",
    "                           scoring='r2',n_jobs=-1)\n",
    "grid_search.fit(X_train, y_train)\n",
    "\n",
    "\n",
    "print((\"best score from grid search: %.3f\"\n",
    "                   % grid_search.score(X_test, y_test)))\n",
    "print(grid_search.best_params_)"
   ]
  }
 ],
 "metadata": {
  "kernelspec": {
   "display_name": "Python 3",
   "language": "python",
   "name": "python3"
  },
  "language_info": {
   "codemirror_mode": {
    "name": "ipython",
    "version": 3
   },
   "file_extension": ".py",
   "mimetype": "text/x-python",
   "name": "python",
   "nbconvert_exporter": "python",
   "pygments_lexer": "ipython3",
   "version": "3.7.6"
  }
 },
 "nbformat": 4,
 "nbformat_minor": 4
}
