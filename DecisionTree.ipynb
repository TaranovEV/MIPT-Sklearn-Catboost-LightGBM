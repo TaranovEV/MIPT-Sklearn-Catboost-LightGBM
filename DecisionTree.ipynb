{
 "cells": [
  {
   "cell_type": "markdown",
   "metadata": {},
   "source": [
    "### Упражнение 2\n",
    "\n",
    "Решите [задачу](https://www.kaggle.com/rodolfomendes/abalone-dataset#abalone.csv) предсказания возраста морских ушек с помощью деревьев решений. \n",
    "\n",
    "1. Рассмотрите задачу и как классификацию, и как регрессию. \n",
    "\n",
    "- Попробуйте разные методы регуляризации: `max_depth`, `min_samples_split`, `min_samples_leaf`, `max_features`, `max_leaf_nodes`, `min_impurity_decrease`, `min_impurity_split`, `ccp_alpha`. Достаточно применить перечисленные методы по отдельности.\n",
    "\n",
    "- Для обучения классификатора попробуйте опции `class_weight='balanced'` и `class_weight=None`.\n",
    "\n",
    "- Измерьте R2 на тестовой выборке.\n",
    "\n",
    "Можете использовать EDA, выложенные на Kaggle.\n",
    "\n",
    "Имеет ли смысл экспериментировать с кодированием категориального признака `'Sex'`? Имеет ли смысл подвергать преобразованиям числовые признаки? Обоснуйте ответ."
   ]
  },
  {
   "cell_type": "markdown",
   "metadata": {},
   "source": [
    "#### Регрессия"
   ]
  },
  {
   "cell_type": "code",
   "execution_count": 129,
   "metadata": {},
   "outputs": [],
   "source": [
    "train_df = pd.read_csv(train_url)\n",
    "test_df = pd.read_csv(test_url)"
   ]
  },
  {
   "cell_type": "code",
   "execution_count": 130,
   "metadata": {},
   "outputs": [
    {
     "data": {
      "text/plain": [
       "(2677, 9)"
      ]
     },
     "execution_count": 130,
     "metadata": {},
     "output_type": "execute_result"
    }
   ],
   "source": [
    "train_df.shape"
   ]
  },
  {
   "cell_type": "code",
   "execution_count": 131,
   "metadata": {},
   "outputs": [
    {
     "data": {
      "text/plain": [
       "(1500, 9)"
      ]
     },
     "execution_count": 131,
     "metadata": {},
     "output_type": "execute_result"
    }
   ],
   "source": [
    "test_df.shape"
   ]
  },
  {
   "cell_type": "code",
   "execution_count": 132,
   "metadata": {},
   "outputs": [],
   "source": [
    "#объединим данные для более подробного рассмотрения\n",
    "new_data = pd.concat([train_df, test_df])"
   ]
  },
  {
   "cell_type": "code",
   "execution_count": 133,
   "metadata": {},
   "outputs": [],
   "source": [
    "#сделаем копию фрейма\n",
    "new_data_x200 = new_data.copy()"
   ]
  },
  {
   "cell_type": "code",
   "execution_count": 134,
   "metadata": {},
   "outputs": [],
   "source": [
    "#умножим все числовые значения на 200\n",
    "#чтобы вернуть первоначальный вид данных\n",
    "new_data_x200.iloc[:,1:-1] = new_data_x200.iloc[:,1:-1]*200"
   ]
  },
  {
   "cell_type": "code",
   "execution_count": 135,
   "metadata": {},
   "outputs": [],
   "source": [
    "#возраст определяется как увеличение количества колец на 1,5\n",
    "new_data_x200['Age'] = new_data_x200['Rings']+1.5\n",
    "new_data_x200.drop('Rings', axis = 1, inplace = True)"
   ]
  },
  {
   "cell_type": "code",
   "execution_count": 136,
   "metadata": {},
   "outputs": [
    {
     "data": {
      "text/html": [
       "<div>\n",
       "<style scoped>\n",
       "    .dataframe tbody tr th:only-of-type {\n",
       "        vertical-align: middle;\n",
       "    }\n",
       "\n",
       "    .dataframe tbody tr th {\n",
       "        vertical-align: top;\n",
       "    }\n",
       "\n",
       "    .dataframe thead th {\n",
       "        text-align: right;\n",
       "    }\n",
       "</style>\n",
       "<table border=\"1\" class=\"dataframe\">\n",
       "  <thead>\n",
       "    <tr style=\"text-align: right;\">\n",
       "      <th></th>\n",
       "      <th>Length</th>\n",
       "      <th>Diameter</th>\n",
       "      <th>Height</th>\n",
       "      <th>Whole weight</th>\n",
       "      <th>Shucked weight</th>\n",
       "      <th>Viscera weight</th>\n",
       "      <th>Shell weight</th>\n",
       "      <th>Age</th>\n",
       "    </tr>\n",
       "  </thead>\n",
       "  <tbody>\n",
       "    <tr>\n",
       "      <th>count</th>\n",
       "      <td>4177.000000</td>\n",
       "      <td>4177.000000</td>\n",
       "      <td>4177.000000</td>\n",
       "      <td>4177.000000</td>\n",
       "      <td>4177.000000</td>\n",
       "      <td>4177.000000</td>\n",
       "      <td>4177.000000</td>\n",
       "      <td>4177.000000</td>\n",
       "    </tr>\n",
       "    <tr>\n",
       "      <th>mean</th>\n",
       "      <td>104.798420</td>\n",
       "      <td>81.576251</td>\n",
       "      <td>27.903280</td>\n",
       "      <td>165.748432</td>\n",
       "      <td>71.873498</td>\n",
       "      <td>36.118722</td>\n",
       "      <td>47.766172</td>\n",
       "      <td>11.433684</td>\n",
       "    </tr>\n",
       "    <tr>\n",
       "      <th>std</th>\n",
       "      <td>24.018583</td>\n",
       "      <td>19.847973</td>\n",
       "      <td>8.365411</td>\n",
       "      <td>98.077804</td>\n",
       "      <td>44.392590</td>\n",
       "      <td>21.922850</td>\n",
       "      <td>27.840534</td>\n",
       "      <td>3.224169</td>\n",
       "    </tr>\n",
       "    <tr>\n",
       "      <th>min</th>\n",
       "      <td>15.000000</td>\n",
       "      <td>11.000000</td>\n",
       "      <td>0.000000</td>\n",
       "      <td>0.400000</td>\n",
       "      <td>0.200000</td>\n",
       "      <td>0.100000</td>\n",
       "      <td>0.300000</td>\n",
       "      <td>2.500000</td>\n",
       "    </tr>\n",
       "    <tr>\n",
       "      <th>25%</th>\n",
       "      <td>90.000000</td>\n",
       "      <td>70.000000</td>\n",
       "      <td>23.000000</td>\n",
       "      <td>88.300000</td>\n",
       "      <td>37.200000</td>\n",
       "      <td>18.700000</td>\n",
       "      <td>26.000000</td>\n",
       "      <td>9.500000</td>\n",
       "    </tr>\n",
       "    <tr>\n",
       "      <th>50%</th>\n",
       "      <td>109.000000</td>\n",
       "      <td>85.000000</td>\n",
       "      <td>28.000000</td>\n",
       "      <td>159.900000</td>\n",
       "      <td>67.200000</td>\n",
       "      <td>34.200000</td>\n",
       "      <td>46.800000</td>\n",
       "      <td>10.500000</td>\n",
       "    </tr>\n",
       "    <tr>\n",
       "      <th>75%</th>\n",
       "      <td>123.000000</td>\n",
       "      <td>96.000000</td>\n",
       "      <td>33.000000</td>\n",
       "      <td>230.600000</td>\n",
       "      <td>100.400000</td>\n",
       "      <td>50.600000</td>\n",
       "      <td>65.800000</td>\n",
       "      <td>12.500000</td>\n",
       "    </tr>\n",
       "    <tr>\n",
       "      <th>max</th>\n",
       "      <td>163.000000</td>\n",
       "      <td>130.000000</td>\n",
       "      <td>226.000000</td>\n",
       "      <td>565.100000</td>\n",
       "      <td>297.600000</td>\n",
       "      <td>152.000000</td>\n",
       "      <td>201.000000</td>\n",
       "      <td>30.500000</td>\n",
       "    </tr>\n",
       "  </tbody>\n",
       "</table>\n",
       "</div>"
      ],
      "text/plain": [
       "            Length     Diameter       Height  Whole weight  Shucked weight  \\\n",
       "count  4177.000000  4177.000000  4177.000000   4177.000000     4177.000000   \n",
       "mean    104.798420    81.576251    27.903280    165.748432       71.873498   \n",
       "std      24.018583    19.847973     8.365411     98.077804       44.392590   \n",
       "min      15.000000    11.000000     0.000000      0.400000        0.200000   \n",
       "25%      90.000000    70.000000    23.000000     88.300000       37.200000   \n",
       "50%     109.000000    85.000000    28.000000    159.900000       67.200000   \n",
       "75%     123.000000    96.000000    33.000000    230.600000      100.400000   \n",
       "max     163.000000   130.000000   226.000000    565.100000      297.600000   \n",
       "\n",
       "       Viscera weight  Shell weight          Age  \n",
       "count     4177.000000   4177.000000  4177.000000  \n",
       "mean        36.118722     47.766172    11.433684  \n",
       "std         21.922850     27.840534     3.224169  \n",
       "min          0.100000      0.300000     2.500000  \n",
       "25%         18.700000     26.000000     9.500000  \n",
       "50%         34.200000     46.800000    10.500000  \n",
       "75%         50.600000     65.800000    12.500000  \n",
       "max        152.000000    201.000000    30.500000  "
      ]
     },
     "execution_count": 136,
     "metadata": {},
     "output_type": "execute_result"
    }
   ],
   "source": [
    "#посмотрим основные статистики\n",
    "new_data_x200.describe()"
   ]
  },
  {
   "cell_type": "code",
   "execution_count": 137,
   "metadata": {},
   "outputs": [
    {
     "data": {
      "text/html": [
       "<div>\n",
       "<style scoped>\n",
       "    .dataframe tbody tr th:only-of-type {\n",
       "        vertical-align: middle;\n",
       "    }\n",
       "\n",
       "    .dataframe tbody tr th {\n",
       "        vertical-align: top;\n",
       "    }\n",
       "\n",
       "    .dataframe thead th {\n",
       "        text-align: right;\n",
       "    }\n",
       "</style>\n",
       "<table border=\"1\" class=\"dataframe\">\n",
       "  <thead>\n",
       "    <tr style=\"text-align: right;\">\n",
       "      <th></th>\n",
       "      <th>Sex</th>\n",
       "      <th>Length</th>\n",
       "      <th>Diameter</th>\n",
       "      <th>Height</th>\n",
       "      <th>Whole weight</th>\n",
       "      <th>Shucked weight</th>\n",
       "      <th>Viscera weight</th>\n",
       "      <th>Shell weight</th>\n",
       "      <th>Age</th>\n",
       "    </tr>\n",
       "  </thead>\n",
       "  <tbody>\n",
       "    <tr>\n",
       "      <th>730</th>\n",
       "      <td>I</td>\n",
       "      <td>63.0</td>\n",
       "      <td>46.0</td>\n",
       "      <td>0.0</td>\n",
       "      <td>26.8</td>\n",
       "      <td>11.5</td>\n",
       "      <td>5.7</td>\n",
       "      <td>70.1</td>\n",
       "      <td>7.5</td>\n",
       "    </tr>\n",
       "    <tr>\n",
       "      <th>1208</th>\n",
       "      <td>I</td>\n",
       "      <td>86.0</td>\n",
       "      <td>68.0</td>\n",
       "      <td>0.0</td>\n",
       "      <td>85.6</td>\n",
       "      <td>41.3</td>\n",
       "      <td>17.2</td>\n",
       "      <td>23.0</td>\n",
       "      <td>9.5</td>\n",
       "    </tr>\n",
       "  </tbody>\n",
       "</table>\n",
       "</div>"
      ],
      "text/plain": [
       "     Sex  Length  Diameter  Height  Whole weight  Shucked weight  \\\n",
       "730    I    63.0      46.0     0.0          26.8            11.5   \n",
       "1208   I    86.0      68.0     0.0          85.6            41.3   \n",
       "\n",
       "      Viscera weight  Shell weight  Age  \n",
       "730              5.7          70.1  7.5  \n",
       "1208            17.2          23.0  9.5  "
      ]
     },
     "execution_count": 137,
     "metadata": {},
     "output_type": "execute_result"
    }
   ],
   "source": [
    "#видно что признак Height имеет нулевые значения\n",
    "#необходимо посмотреть сколько записей содержит значения 0\n",
    "new_data_x200[new_data_x200['Height'] == 0]\n",
    "#удивительный момент в образце 730 полный вес(Whole weight) моллюска меньше, чем вес раковины (Shell weight)"
   ]
  },
  {
   "cell_type": "code",
   "execution_count": 138,
   "metadata": {},
   "outputs": [],
   "source": [
    "#удалим эти 2 значения\n",
    "new_data_x200 = new_data_x200[new_data_x200['Height'] > 0]"
   ]
  },
  {
   "cell_type": "code",
   "execution_count": 139,
   "metadata": {},
   "outputs": [
    {
     "data": {
      "text/plain": [
       "(0, 9)"
      ]
     },
     "execution_count": 139,
     "metadata": {},
     "output_type": "execute_result"
    }
   ],
   "source": [
    "#также помотрим на каких данных эта тенденция имеет место\n",
    "new_data_x200[new_data_x200['Whole weight'] < new_data_x200['Shell weight']].shape"
   ]
  },
  {
   "cell_type": "code",
   "execution_count": 140,
   "metadata": {},
   "outputs": [],
   "source": [
    "#Создадим новый признак-который будет равен\n",
    "#полному весу(Whole weight) - вес кишечника(Viscera weight) - вес мяса(Shucked weight)\n",
    "new_data_x200['Dif weight'] = new_data_x200['Whole weight'] \\\n",
    "                                    - new_data_x200['Shucked weight'] \\\n",
    "                                    - new_data_x200['Viscera weight'] "
   ]
  },
  {
   "cell_type": "code",
   "execution_count": 141,
   "metadata": {},
   "outputs": [
    {
     "data": {
      "text/plain": [
       "(157, 10)"
      ]
     },
     "execution_count": 141,
     "metadata": {},
     "output_type": "execute_result"
    }
   ],
   "source": [
    "#логично, что та разница должна быть больше чем вес раковины\n",
    "#посмотрим сколько значений не соответсвуют этому признаку\n",
    "new_data_x200[new_data_x200['Dif weight'] < new_data_x200['Shell weight']].shape"
   ]
  },
  {
   "cell_type": "code",
   "execution_count": 142,
   "metadata": {},
   "outputs": [],
   "source": [
    "#удалим эти образцы из выборки\n",
    "#так как в каком то из трех признаков была допушена ошибка\n",
    "new_data_x200 = new_data_x200[new_data_x200['Dif weight'] \n",
    "                         > new_data_x200['Shell weight']]"
   ]
  },
  {
   "cell_type": "code",
   "execution_count": 143,
   "metadata": {},
   "outputs": [],
   "source": [
    "#логично предоложить, что искомая обощающая модель \n",
    "#должна должна предсказывать возраст без дополнительных манипуляций\n",
    "#с молюсками -таких как разделка, взвешивание кишечника, или мяса\n",
    "#иначе эта модель неособо нам облегчит жизнь-от препарирования не уйдем\n",
    "#идея в следующем - имея 'на руках' мослюска или его высушенную раковину\n",
    "#сделать предположение о его возврасте\n",
    "new_data_x200 = new_data_x200.drop(['Shucked weight','Viscera weight','Dif weight'], axis=1)"
   ]
  },
  {
   "cell_type": "code",
   "execution_count": 144,
   "metadata": {},
   "outputs": [
    {
     "data": {
      "text/html": [
       "<div>\n",
       "<style scoped>\n",
       "    .dataframe tbody tr th:only-of-type {\n",
       "        vertical-align: middle;\n",
       "    }\n",
       "\n",
       "    .dataframe tbody tr th {\n",
       "        vertical-align: top;\n",
       "    }\n",
       "\n",
       "    .dataframe thead th {\n",
       "        text-align: right;\n",
       "    }\n",
       "</style>\n",
       "<table border=\"1\" class=\"dataframe\">\n",
       "  <thead>\n",
       "    <tr style=\"text-align: right;\">\n",
       "      <th></th>\n",
       "      <th>Length</th>\n",
       "      <th>Diameter</th>\n",
       "      <th>Height</th>\n",
       "      <th>Whole weight</th>\n",
       "      <th>Shell weight</th>\n",
       "      <th>Age</th>\n",
       "    </tr>\n",
       "  </thead>\n",
       "  <tbody>\n",
       "    <tr>\n",
       "      <th>count</th>\n",
       "      <td>4016.000000</td>\n",
       "      <td>4016.000000</td>\n",
       "      <td>4016.000000</td>\n",
       "      <td>4016.000000</td>\n",
       "      <td>4016.000000</td>\n",
       "      <td>4016.000000</td>\n",
       "    </tr>\n",
       "    <tr>\n",
       "      <th>mean</th>\n",
       "      <td>105.509960</td>\n",
       "      <td>82.138944</td>\n",
       "      <td>28.114542</td>\n",
       "      <td>168.354806</td>\n",
       "      <td>48.355503</td>\n",
       "      <td>11.509213</td>\n",
       "    </tr>\n",
       "    <tr>\n",
       "      <th>std</th>\n",
       "      <td>23.551981</td>\n",
       "      <td>19.489567</td>\n",
       "      <td>8.271744</td>\n",
       "      <td>97.673182</td>\n",
       "      <td>27.721209</td>\n",
       "      <td>3.219518</td>\n",
       "    </tr>\n",
       "    <tr>\n",
       "      <th>min</th>\n",
       "      <td>22.000000</td>\n",
       "      <td>18.000000</td>\n",
       "      <td>3.000000</td>\n",
       "      <td>1.600000</td>\n",
       "      <td>0.600000</td>\n",
       "      <td>3.500000</td>\n",
       "    </tr>\n",
       "    <tr>\n",
       "      <th>25%</th>\n",
       "      <td>91.000000</td>\n",
       "      <td>70.000000</td>\n",
       "      <td>23.000000</td>\n",
       "      <td>91.200000</td>\n",
       "      <td>26.900000</td>\n",
       "      <td>9.500000</td>\n",
       "    </tr>\n",
       "    <tr>\n",
       "      <th>50%</th>\n",
       "      <td>109.000000</td>\n",
       "      <td>85.000000</td>\n",
       "      <td>29.000000</td>\n",
       "      <td>162.700000</td>\n",
       "      <td>47.200000</td>\n",
       "      <td>11.500000</td>\n",
       "    </tr>\n",
       "    <tr>\n",
       "      <th>75%</th>\n",
       "      <td>123.000000</td>\n",
       "      <td>96.000000</td>\n",
       "      <td>33.000000</td>\n",
       "      <td>232.700000</td>\n",
       "      <td>66.000000</td>\n",
       "      <td>12.500000</td>\n",
       "    </tr>\n",
       "    <tr>\n",
       "      <th>max</th>\n",
       "      <td>163.000000</td>\n",
       "      <td>130.000000</td>\n",
       "      <td>226.000000</td>\n",
       "      <td>565.100000</td>\n",
       "      <td>201.000000</td>\n",
       "      <td>30.500000</td>\n",
       "    </tr>\n",
       "  </tbody>\n",
       "</table>\n",
       "</div>"
      ],
      "text/plain": [
       "            Length     Diameter       Height  Whole weight  Shell weight  \\\n",
       "count  4016.000000  4016.000000  4016.000000   4016.000000   4016.000000   \n",
       "mean    105.509960    82.138944    28.114542    168.354806     48.355503   \n",
       "std      23.551981    19.489567     8.271744     97.673182     27.721209   \n",
       "min      22.000000    18.000000     3.000000      1.600000      0.600000   \n",
       "25%      91.000000    70.000000    23.000000     91.200000     26.900000   \n",
       "50%     109.000000    85.000000    29.000000    162.700000     47.200000   \n",
       "75%     123.000000    96.000000    33.000000    232.700000     66.000000   \n",
       "max     163.000000   130.000000   226.000000    565.100000    201.000000   \n",
       "\n",
       "               Age  \n",
       "count  4016.000000  \n",
       "mean     11.509213  \n",
       "std       3.219518  \n",
       "min       3.500000  \n",
       "25%       9.500000  \n",
       "50%      11.500000  \n",
       "75%      12.500000  \n",
       "max      30.500000  "
      ]
     },
     "execution_count": 144,
     "metadata": {},
     "output_type": "execute_result"
    }
   ],
   "source": [
    "new_data_x200.describe()"
   ]
  },
  {
   "cell_type": "markdown",
   "metadata": {},
   "source": [
    "Имеет ли смысл экспериментировать с кодированием категориального признака 'Sex'? "
   ]
  },
  {
   "cell_type": "code",
   "execution_count": 145,
   "metadata": {},
   "outputs": [
    {
     "data": {
      "text/html": [
       "<div>\n",
       "<style scoped>\n",
       "    .dataframe tbody tr th:only-of-type {\n",
       "        vertical-align: middle;\n",
       "    }\n",
       "\n",
       "    .dataframe tbody tr th {\n",
       "        vertical-align: top;\n",
       "    }\n",
       "\n",
       "    .dataframe thead th {\n",
       "        text-align: right;\n",
       "    }\n",
       "</style>\n",
       "<table border=\"1\" class=\"dataframe\">\n",
       "  <thead>\n",
       "    <tr style=\"text-align: right;\">\n",
       "      <th>Sex</th>\n",
       "      <th>F</th>\n",
       "      <th>I</th>\n",
       "      <th>M</th>\n",
       "    </tr>\n",
       "    <tr>\n",
       "      <th>Age</th>\n",
       "      <th></th>\n",
       "      <th></th>\n",
       "      <th></th>\n",
       "    </tr>\n",
       "  </thead>\n",
       "  <tbody>\n",
       "    <tr>\n",
       "      <th>3.5</th>\n",
       "      <td>0</td>\n",
       "      <td>1</td>\n",
       "      <td>0</td>\n",
       "    </tr>\n",
       "    <tr>\n",
       "      <th>4.5</th>\n",
       "      <td>0</td>\n",
       "      <td>10</td>\n",
       "      <td>2</td>\n",
       "    </tr>\n",
       "    <tr>\n",
       "      <th>5.5</th>\n",
       "      <td>0</td>\n",
       "      <td>42</td>\n",
       "      <td>6</td>\n",
       "    </tr>\n",
       "    <tr>\n",
       "      <th>6.5</th>\n",
       "      <td>4</td>\n",
       "      <td>87</td>\n",
       "      <td>11</td>\n",
       "    </tr>\n",
       "    <tr>\n",
       "      <th>7.5</th>\n",
       "      <td>16</td>\n",
       "      <td>200</td>\n",
       "      <td>22</td>\n",
       "    </tr>\n",
       "    <tr>\n",
       "      <th>8.5</th>\n",
       "      <td>41</td>\n",
       "      <td>251</td>\n",
       "      <td>76</td>\n",
       "    </tr>\n",
       "    <tr>\n",
       "      <th>9.5</th>\n",
       "      <td>118</td>\n",
       "      <td>255</td>\n",
       "      <td>170</td>\n",
       "    </tr>\n",
       "    <tr>\n",
       "      <th>10.5</th>\n",
       "      <td>230</td>\n",
       "      <td>163</td>\n",
       "      <td>269</td>\n",
       "    </tr>\n",
       "    <tr>\n",
       "      <th>11.5</th>\n",
       "      <td>241</td>\n",
       "      <td>91</td>\n",
       "      <td>288</td>\n",
       "    </tr>\n",
       "    <tr>\n",
       "      <th>12.5</th>\n",
       "      <td>198</td>\n",
       "      <td>62</td>\n",
       "      <td>218</td>\n",
       "    </tr>\n",
       "    <tr>\n",
       "      <th>13.5</th>\n",
       "      <td>124</td>\n",
       "      <td>21</td>\n",
       "      <td>115</td>\n",
       "    </tr>\n",
       "    <tr>\n",
       "      <th>14.5</th>\n",
       "      <td>87</td>\n",
       "      <td>24</td>\n",
       "      <td>88</td>\n",
       "    </tr>\n",
       "    <tr>\n",
       "      <th>15.5</th>\n",
       "      <td>56</td>\n",
       "      <td>14</td>\n",
       "      <td>56</td>\n",
       "    </tr>\n",
       "    <tr>\n",
       "      <th>16.5</th>\n",
       "      <td>41</td>\n",
       "      <td>8</td>\n",
       "      <td>51</td>\n",
       "    </tr>\n",
       "    <tr>\n",
       "      <th>17.5</th>\n",
       "      <td>30</td>\n",
       "      <td>6</td>\n",
       "      <td>30</td>\n",
       "    </tr>\n",
       "    <tr>\n",
       "      <th>18.5</th>\n",
       "      <td>26</td>\n",
       "      <td>7</td>\n",
       "      <td>25</td>\n",
       "    </tr>\n",
       "    <tr>\n",
       "      <th>19.5</th>\n",
       "      <td>19</td>\n",
       "      <td>5</td>\n",
       "      <td>18</td>\n",
       "    </tr>\n",
       "    <tr>\n",
       "      <th>20.5</th>\n",
       "      <td>15</td>\n",
       "      <td>2</td>\n",
       "      <td>14</td>\n",
       "    </tr>\n",
       "    <tr>\n",
       "      <th>21.5</th>\n",
       "      <td>12</td>\n",
       "      <td>2</td>\n",
       "      <td>12</td>\n",
       "    </tr>\n",
       "    <tr>\n",
       "      <th>22.5</th>\n",
       "      <td>7</td>\n",
       "      <td>1</td>\n",
       "      <td>6</td>\n",
       "    </tr>\n",
       "    <tr>\n",
       "      <th>23.5</th>\n",
       "      <td>3</td>\n",
       "      <td>0</td>\n",
       "      <td>3</td>\n",
       "    </tr>\n",
       "    <tr>\n",
       "      <th>24.5</th>\n",
       "      <td>6</td>\n",
       "      <td>0</td>\n",
       "      <td>3</td>\n",
       "    </tr>\n",
       "    <tr>\n",
       "      <th>25.5</th>\n",
       "      <td>1</td>\n",
       "      <td>0</td>\n",
       "      <td>1</td>\n",
       "    </tr>\n",
       "    <tr>\n",
       "      <th>26.5</th>\n",
       "      <td>1</td>\n",
       "      <td>0</td>\n",
       "      <td>0</td>\n",
       "    </tr>\n",
       "    <tr>\n",
       "      <th>27.5</th>\n",
       "      <td>0</td>\n",
       "      <td>0</td>\n",
       "      <td>1</td>\n",
       "    </tr>\n",
       "    <tr>\n",
       "      <th>28.5</th>\n",
       "      <td>1</td>\n",
       "      <td>0</td>\n",
       "      <td>1</td>\n",
       "    </tr>\n",
       "    <tr>\n",
       "      <th>30.5</th>\n",
       "      <td>1</td>\n",
       "      <td>0</td>\n",
       "      <td>0</td>\n",
       "    </tr>\n",
       "  </tbody>\n",
       "</table>\n",
       "</div>"
      ],
      "text/plain": [
       "Sex     F    I    M\n",
       "Age                \n",
       "3.5     0    1    0\n",
       "4.5     0   10    2\n",
       "5.5     0   42    6\n",
       "6.5     4   87   11\n",
       "7.5    16  200   22\n",
       "8.5    41  251   76\n",
       "9.5   118  255  170\n",
       "10.5  230  163  269\n",
       "11.5  241   91  288\n",
       "12.5  198   62  218\n",
       "13.5  124   21  115\n",
       "14.5   87   24   88\n",
       "15.5   56   14   56\n",
       "16.5   41    8   51\n",
       "17.5   30    6   30\n",
       "18.5   26    7   25\n",
       "19.5   19    5   18\n",
       "20.5   15    2   14\n",
       "21.5   12    2   12\n",
       "22.5    7    1    6\n",
       "23.5    3    0    3\n",
       "24.5    6    0    3\n",
       "25.5    1    0    1\n",
       "26.5    1    0    0\n",
       "27.5    0    0    1\n",
       "28.5    1    0    1\n",
       "30.5    1    0    0"
      ]
     },
     "execution_count": 145,
     "metadata": {},
     "output_type": "execute_result"
    }
   ],
   "source": [
    "#рассмотрим подробно распределение Sex по Age\n",
    "#заметна непонятная деталь-при одном и том же возрасте\n",
    "#пол может быть определен или объект считается незрелым\n",
    "pd.crosstab(new_data_x200['Age'], new_data_x200['Sex'])"
   ]
  },
  {
   "cell_type": "code",
   "execution_count": 146,
   "metadata": {},
   "outputs": [],
   "source": [
    "#использовать признак Sex не будем\n",
    "new_data_x200 = new_data_x200.drop(['Sex'], axis=1)"
   ]
  },
  {
   "cell_type": "code",
   "execution_count": 147,
   "metadata": {},
   "outputs": [
    {
     "data": {
      "text/plain": [
       "1"
      ]
     },
     "execution_count": 147,
     "metadata": {},
     "output_type": "execute_result"
    }
   ],
   "source": [
    "#проверим ошибки при измерении высоты раковины\n",
    "#высота должна быть меньше длины\n",
    "new_data_x200[new_data_x200['Length'] < new_data_x200['Height']].shape[0]"
   ]
  },
  {
   "cell_type": "code",
   "execution_count": 148,
   "metadata": {},
   "outputs": [],
   "source": [
    "#удалим эти значения\n",
    "new_data_x200 = new_data_x200[new_data_x200['Length'] \n",
    "                         > new_data_x200['Height']]"
   ]
  },
  {
   "cell_type": "code",
   "execution_count": 149,
   "metadata": {},
   "outputs": [
    {
     "data": {
      "text/plain": [
       "1"
      ]
     },
     "execution_count": 149,
     "metadata": {},
     "output_type": "execute_result"
    }
   ],
   "source": [
    "#проделаем то же самое с диаметром\n",
    "#он должен быть меньше длины раковины\n",
    "new_data_x200[new_data_x200['Length'] < new_data_x200['Diameter']].shape[0]"
   ]
  },
  {
   "cell_type": "code",
   "execution_count": 150,
   "metadata": {},
   "outputs": [],
   "source": [
    "#удалим эти значения\n",
    "new_data_x200 = new_data_x200[new_data_x200['Length'] \n",
    "                         > new_data_x200['Diameter']]"
   ]
  },
  {
   "cell_type": "code",
   "execution_count": 151,
   "metadata": {},
   "outputs": [
    {
     "data": {
      "image/png": "[encoded data removed]",
      "text/plain": [
       "<Figure size 432x288 with 1 Axes>"
      ]
     },
     "metadata": {},
     "output_type": "display_data"
    }
   ],
   "source": [
    "#посмотрим на распределение значений\n",
    "new_data_x200.boxplot();"
   ]
  },
  {
   "cell_type": "code",
   "execution_count": 152,
   "metadata": {},
   "outputs": [
    {
     "name": "stdout",
     "output_type": "stream",
     "text": [
      "Percentiles: 25th=91.000, 75th=123.000, IQR=32.000\n",
      "Количество_выбросов: 48\n",
      "Percentiles: 25th=70.000, 75th=96.000, IQR=26.000\n",
      "Количество_выбросов: 48\n",
      "Percentiles: 25th=23.000, 75th=33.000, IQR=10.000\n",
      "Количество_выбросов: 23\n",
      "Percentiles: 25th=91.200, 75th=232.700, IQR=141.500\n",
      "Количество_выбросов: 29\n",
      "Percentiles: 25th=26.900, 75th=66.000, IQR=39.100\n",
      "Количество_выбросов: 38\n"
     ]
    }
   ],
   "source": [
    "#исключим выбросы в данных\n",
    "#используя метод интерквартильного интервала (IQR).\n",
    "#IQR вычислим, как разницу между 25-ым и 75-ым перцентилями.\n",
    "from numpy import percentile\n",
    "describe_data = new_data_x200.describe()\n",
    "describe_data = describe_data.drop(['Age'], axis=1)\n",
    "name_colums = list(describe_data.columns)\n",
    "clear_data = new_data_x200.copy()\n",
    "for data in name_colums:\n",
    "    # вычислим 25 и 75 персентиль\n",
    "    q25, q75 = percentile(new_data_x200[data], 25), percentile(new_data_x200[data], 75)\n",
    "    iqr = q75 - q25\n",
    "    #Теперь мы можем определить область нормальных данных, \n",
    "    #умножив IQR на 1,5 (k-фактор), вычесть этот отрезок из \n",
    "    #25-ого перцентиля и прибавить к 75-ому - это и будут границы.\n",
    "    cut_off = iqr * 1.5\n",
    "    lower, upper = q25 - cut_off, q75 + cut_off\n",
    "    outliers = [x for x in new_data_x200[data] if x < lower or x > upper]\n",
    "    clear_data = clear_data[(clear_data[data]>lower)&(clear_data[data]<upper)]\n",
    "    \n",
    "    print('Percentiles: 25th=%.3f, 75th=%.3f, IQR=%.3f' % (q25, q75, iqr))\n",
    "    print('Количество_выбросов: %d' % len(outliers))"
   ]
  },
  {
   "cell_type": "code",
   "execution_count": 153,
   "metadata": {},
   "outputs": [
    {
     "data": {
      "image/png": "[encoded data removed]",
      "text/plain": [
       "<Figure size 432x288 with 1 Axes>"
      ]
     },
     "metadata": {},
     "output_type": "display_data"
    }
   ],
   "source": [
    "#посмотрим на итог\n",
    "clear_data.boxplot(column = name_colums);"
   ]
  },
  {
   "cell_type": "markdown",
   "metadata": {},
   "source": [
    "Имеет ли смысл подвергать преобразованиям числовые признаки? "
   ]
  },
  {
   "cell_type": "code",
   "execution_count": 154,
   "metadata": {},
   "outputs": [],
   "source": [
    "#применим к данным Устойчивую нормализация (Robust Scaling)\n",
    "#так как устойчивая нормализация исключает влияние аномалий\n",
    "from sklearn.preprocessing import RobustScaler\n",
    "from sklearn import preprocessing\n",
    "final_data = new_data_x200.copy()\n",
    "\n",
    "numerical_indices = [0, 1, 2, 3, 4]\n",
    "numerical = []\n",
    "for i in numerical_indices:\n",
    "    numerical.append(final_data.columns[i])\n",
    "\n",
    "\n",
    "scaler = RobustScaler()\n",
    "for i in numerical:\n",
    "    ff = np.array(final_data[i]).reshape(-1, 1)\n",
    "    \n",
    "    transform_feat = scaler.fit_transform(ff)\n",
    "    final_data[i] = transform_feat "
   ]
  },
  {
   "cell_type": "code",
   "execution_count": 155,
   "metadata": {},
   "outputs": [],
   "source": [
    "# создадим 2 дата сета-для классификации и регрессии\n",
    "data_clf = final_data.copy()\n",
    "data_reg = final_data.copy()"
   ]
  },
  {
   "cell_type": "markdown",
   "metadata": {},
   "source": [
    "#### Классификация"
   ]
  },
  {
   "cell_type": "code",
   "execution_count": 156,
   "metadata": {},
   "outputs": [
    {
     "data": {
      "text/plain": [
       "10.5    662\n",
       "11.5    620\n",
       "9.5     542\n",
       "12.5    478\n",
       "8.5     368\n",
       "13.5    260\n",
       "7.5     237\n",
       "14.5    199\n",
       "15.5    126\n",
       "6.5     102\n",
       "16.5    100\n",
       "17.5     66\n",
       "18.5     58\n",
       "5.5      48\n",
       "19.5     42\n",
       "20.5     31\n",
       "21.5     26\n",
       "22.5     14\n",
       "4.5      12\n",
       "24.5      9\n",
       "23.5      6\n",
       "28.5      2\n",
       "25.5      2\n",
       "26.5      1\n",
       "27.5      1\n",
       "30.5      1\n",
       "3.5       1\n",
       "Name: Age, dtype: int64"
      ]
     },
     "execution_count": 156,
     "metadata": {},
     "output_type": "execute_result"
    }
   ],
   "source": [
    "#посмотрим на распределение классов\n",
    "data_clf['Age'].value_counts()"
   ]
  },
  {
   "cell_type": "code",
   "execution_count": 157,
   "metadata": {},
   "outputs": [],
   "source": [
    "# объединим класс 3,5 и 4,5\n",
    "data_clf['Age'] = np.where(data_clf['Age'] == 3.5, 4.5, data_clf['Age'])"
   ]
  },
  {
   "cell_type": "code",
   "execution_count": 158,
   "metadata": {},
   "outputs": [],
   "source": [
    "#объединим значения больше 23,5 в один класс\n",
    "#так как выборка по этим классам слишком мала\n",
    "data_clf['Age'] = np.where(data_clf['Age'] >= 23.5, 23.5, data_clf['Age'])"
   ]
  },
  {
   "cell_type": "code",
   "execution_count": 32,
   "metadata": {},
   "outputs": [
    {
     "name": "stdout",
     "output_type": "stream",
     "text": [
      "best score from grid search: 0.104\n",
      "{'max_depth': 16, 'max_features': 4, 'max_leaf_nodes': 16, 'min_impurity_decrease': 1e-06, 'min_impurity_split': 0.0001, 'min_samples_leaf': 21, 'min_samples_split': 21}\n",
      "              precision    recall  f1-score   support\n",
      "\n",
      "         4.5       1.00      0.24      0.38        21\n",
      "         5.5       0.20      0.21      0.21        14\n",
      "         6.5       0.43      0.13      0.20        78\n",
      "         7.5       0.28      0.32      0.30        72\n",
      "         8.5       0.37      0.20      0.26       189\n",
      "         9.5       0.00      0.00      0.00         0\n",
      "        10.5       0.50      0.24      0.33       394\n",
      "        11.5       0.23      0.22      0.23       203\n",
      "        12.5       0.00      0.00      0.00         0\n",
      "        13.5       0.00      0.00      0.00         0\n",
      "        14.5       0.00      0.00      0.00         0\n",
      "        15.5       0.00      0.00      0.00         0\n",
      "        16.5       0.00      0.00      0.00         0\n",
      "        17.5       0.09      0.07      0.08        28\n",
      "        18.5       0.00      0.00      0.00         0\n",
      "        19.5       0.00      0.00      0.00         0\n",
      "        20.5       0.25      0.03      0.05       114\n",
      "        21.5       0.00      0.00      0.00        37\n",
      "        22.5       0.25      0.03      0.06        31\n",
      "        23.5       0.00      0.00      0.00        24\n",
      "\n",
      "    accuracy                           0.19      1205\n",
      "   macro avg       0.18      0.08      0.10      1205\n",
      "weighted avg       0.36      0.19      0.23      1205\n",
      "\n"
     ]
    }
   ],
   "source": [
    "#первый вариант -количество классов = 20\n",
    "#в качестве метрики используем F1\n",
    "#class_weight = 'balanced' чтобы выровнять дисбаланс классов\n",
    "import category_encoders\n",
    "from sklearn.model_selection import train_test_split\n",
    "from sklearn.metrics import classification_report\n",
    "from sklearn.metrics import f1_score\n",
    "from sklearn.metrics import make_scorer\n",
    "from sklearn.metrics import f1_score\n",
    "warnings.filterwarnings(\"ignore\")\n",
    "\n",
    "f1_scorer = make_scorer(f1_score, average='macro')\n",
    "new_df = data_clf.copy()\n",
    "X = new_df.drop(['Age'], axis=1)\n",
    "y = new_df['Age']\n",
    "#закодируем классы целевой переменной\n",
    "le = preprocessing.LabelEncoder()\n",
    "le.fit(y)\n",
    "y = le.transform(y)\n",
    "o = list(le.classes_)\n",
    "list_of_classes = [str(i) for i in o]\n",
    "clf = DecisionTreeClassifier(class_weight = 'balanced')\n",
    "param_grid = {'max_depth': np.arange(15,17),\n",
    "             'min_samples_split':np.arange(20,22),\n",
    "             'min_samples_leaf':np.arange(20,22),\n",
    "              'max_features': np.arange(1,5),\n",
    "              \n",
    "              'max_leaf_nodes': np.arange(15,17),\n",
    "              'min_impurity_decrease': [0.0001,0.00001,0.000001,0.0000001],\n",
    "              'min_impurity_split': [0.0001,0.00001,0.000001,0.0000001]}\n",
    "             \n",
    "X_train, X_test, y_train, y_test = train_test_split(X, y, test_size=0.3,random_state = 42)\n",
    "grid_search = GridSearchCV(clf, param_grid, cv=5,verbose=0,\n",
    "                           scoring=f1_scorer)\n",
    "grid_search.fit(X_train, y_train)\n",
    "\n",
    "\n",
    "print((\"best score from grid search: %.3f\"\n",
    "                   % grid_search.score(X_test, y_test)))\n",
    "print(grid_search.best_params_)\n",
    "report = classification_report(grid_search.best_estimator_.predict(X_test), \n",
    "                               y_test,target_names = list_of_classes)\n",
    "print(report)"
   ]
  },
  {
   "cell_type": "code",
   "execution_count": null,
   "metadata": {},
   "outputs": [],
   "source": [
    "#второй вариант-итоговых 3 класса\n",
    "#class_weight = None - применяем разделение классов без дисбаланса\n",
    "import category_encoders\n",
    "from sklearn.model_selection import train_test_split\n",
    "from sklearn.metrics import classification_report\n",
    "from sklearn.metrics import f1_score\n",
    "from sklearn.metrics import make_scorer\n",
    "from sklearn.metrics import f1_score\n",
    "warnings.filterwarnings(\"ignore\")\n",
    "\n",
    "\n",
    "#разделим на 3 класса по принципу\n",
    "new_df = data_clf.copy()\n",
    "\n",
    "new_df['Age'] = np.where(new_df['Age'] <= 9.5,1,new_df['Age'])\n",
    "new_df['Age'] = np.where(((new_df['Age'] > 9.5) & (new_df['Age'] <= 11.5)), 2,new_df['Age'])\n",
    "new_df['Age'] = np.where(new_df['Age'] > 11.5,3,new_df['Age'])\n",
    "list_of_classes = ['1','2','3']\n",
    "X = new_df.drop(['Age'], axis=1)\n",
    "y = new_df['Age']\n",
    "clf = DecisionTreeClassifier(class_weight = None)\n",
    "param_grid = {'max_depth': np.arange(5,8),\n",
    "             'min_samples_split':np.arange(100,102),\n",
    "             'min_samples_leaf':np.arange(100,102),\n",
    "              'max_features': np.arange(1,5),\n",
    "              \n",
    "              'max_leaf_nodes': np.arange(15,17),\n",
    "              'min_impurity_decrease': [0.0001,0.00001,0.000001,0.0000001],\n",
    "              'min_impurity_split': [0.0001,0.00001,0.000001,0.0000001]}\n",
    "             \n",
    "X_train, X_test, y_train, y_test = train_test_split(X, y, test_size=0.3,random_state = 42)\n",
    "grid_search = GridSearchCV(clf, param_grid, cv=5,verbose=0,\n",
    "                           scoring=f1_scorer)\n",
    "grid_search.fit(X_train, y_train)\n",
    "\n",
    "\n",
    "print((\"best score from grid search: %.3f\"\n",
    "                   % grid_search.score(X_test, y_test)))\n",
    "print(grid_search.best_params_)\n",
    "report = classification_report(grid_search.best_estimator_.predict(X_test), \n",
    "                               y_test,target_names = list_of_classes)\n",
    "print(report)"
   ]
  },
  {
   "cell_type": "markdown",
   "metadata": {},
   "source": [
    "#### Теперь рассмотрим задачу регрессии"
   ]
  },
  {
   "cell_type": "code",
   "execution_count": 658,
   "metadata": {},
   "outputs": [
    {
     "name": "stdout",
     "output_type": "stream",
     "text": [
      "best score from grid search: 0.447\n",
      "{'max_depth': 10, 'max_features': 4, 'max_leaf_nodes': 31, 'min_impurity_decrease': 1e-06, 'min_impurity_split': 0.0001, 'min_samples_leaf': 23, 'min_samples_split': 55}\n"
     ]
    }
   ],
   "source": [
    "X = data_reg.drop(['Age'], axis=1)\n",
    "y = data_reg['Age']\n",
    "clf = DecisionTreeRegressor()\n",
    "param_grid = {'max_depth': np.arange(10,12),\n",
    "             'min_samples_split':np.arange(54,56),\n",
    "             'min_samples_leaf':np.arange(23,25),\n",
    "              'max_features': np.arange(1,6),\n",
    "              \n",
    "              'max_leaf_nodes': np.arange(28,33),\n",
    "               'min_impurity_decrease': [0.0001,0.00001,0.000001,0.0000001],\n",
    "               'min_impurity_split': [0.0001,0.00001,0.000001,0.0000001]}\n",
    "             \n",
    "X_train, X_test, y_train, y_test = train_test_split(X, y, test_size=0.3,random_state = 42)\n",
    "grid_search = GridSearchCV(clf, param_grid, cv=5,verbose=0,\n",
    "                           scoring='r2',n_jobs=-1)\n",
    "grid_search.fit(X_train, y_train)\n",
    "\n",
    "\n",
    "print((\"best score from grid search: %.3f\"\n",
    "                   % grid_search.score(X_test, y_test)))\n",
    "print(grid_search.best_params_)"
   ]
  }
 ],
 "metadata": {
  "kernelspec": {
   "display_name": "Python 3",
   "language": "python",
   "name": "python3"
  },
  "language_info": {
   "codemirror_mode": {
    "name": "ipython",
    "version": 3
   },
   "file_extension": ".py",
   "mimetype": "text/x-python",
   "name": "python",
   "nbconvert_exporter": "python",
   "pygments_lexer": "ipython3",
   "version": "3.7.6"
  }
 },
 "nbformat": 4,
 "nbformat_minor": 4
}
