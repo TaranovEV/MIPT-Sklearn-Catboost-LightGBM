{
 "cells": [
  {
   "cell_type": "code",
   "execution_count": 1,
   "metadata": {},
   "outputs": [],
   "source": [
    "%matplotlib inline\n",
    "\n",
    "\n",
    "import warnings\n",
    "\n",
    "import matplotlib.pyplot as plt\n",
    "import numpy as np\n",
    "import pandas as pd\n",
    "import seaborn as sns\n",
    "from sklearn.compose import ColumnTransformer\n",
    "from sklearn.linear_model import LogisticRegression\n",
    "from sklearn.metrics import accuracy_score, f1_score\n",
    "from sklearn.model_selection import GridSearchCV\n",
    "from sklearn.naive_bayes import CategoricalNB, MultinomialNB, \\\n",
    "    GaussianNB, BernoulliNB\n",
    "from sklearn.pipeline import Pipeline\n",
    "from sklearn.preprocessing import FunctionTransformer, LabelEncoder, \\\n",
    "    KBinsDiscretizer, OrdinalEncoder\n",
    "\n",
    "\n",
    "warnings.filterwarnings(\"ignore\")"
   ]
  },
  {
   "cell_type": "markdown",
   "metadata": {},
   "source": [
    "# <font color=blue>Домашнее задание 5</font>\n",
    "\n",
    "### Упражнение 1. Kernel trick\n",
    "\n",
    "Используйте kernel trick, который позволит логистической регрессии достигнуть точности не менее $85\\%$. Максимальная точность, которой можно добиться, $\\approx 90\\%$."
   ]
  },
  {
   "cell_type": "code",
   "execution_count": 13,
   "metadata": {},
   "outputs": [],
   "source": [
    "train_url = 'https://raw.githubusercontent.com/PeganovAnton/ml-datasets/master/spiral/train.csv'\n",
    "test_url = 'https://raw.githubusercontent.com/PeganovAnton/ml-datasets/master/spiral/test.csv'\n",
    "train_df = pd.read_csv(train_url)\n",
    "test_df = pd.read_csv(test_url)"
   ]
  },
  {
   "cell_type": "code",
   "execution_count": 14,
   "metadata": {},
   "outputs": [
    {
     "data": {
      "image/png": "[encoded data removed]",
      "text/plain": [
       "<Figure size 432x288 with 1 Axes>"
      ]
     },
     "metadata": {
      "needs_background": "light"
     },
     "output_type": "display_data"
    }
   ],
   "source": [
    "#посмотрим на визуальное представление данных, тобы понять каким образом разделять\n",
    "class_0 = train_df[train_df['class']==0]\n",
    "class_1 = train_df[train_df['class']==1]\n",
    "class_2 = train_df[train_df['class']==2]\n",
    "plt.scatter(class_0['x'], class_0['y'], color='blue', s=1,label = 'class_0')\n",
    "plt.scatter(class_1['x'], class_1['y'], color='red', s=1,label = 'class_1')\n",
    "plt.scatter(class_2['x'], class_2['y'], color='green', s=1,label = 'class_2')\n",
    "plt.legend(loc='best');"
   ]
  },
  {
   "cell_type": "code",
   "execution_count": 162,
   "metadata": {},
   "outputs": [],
   "source": [
    "from sklearn.kernel_approximation import RBFSampler\n",
    "#объединим данные для очистки и преобразования\n",
    "new_data = pd.concat([train_df, test_df])\n",
    "X = new_data.drop(['Unnamed: 0','class'], axis=1)\n",
    "y = new_data['class']\n",
    "#преобразовывать будем с посощью RBFSampler\n",
    "rbf_feature = RBFSampler(random_state=1)\n",
    "transform = rbf_feature.fit_transform(X)\n",
    "clf = Pipeline(steps=[('preprocessor', rbf_feature),\n",
    "                    ('classifier', LogisticRegression(multi_class='auto'))])\n",
    "param_grid = {'classifier__solver': ['newton-cg',\n",
    "                                     'liblinear','sag','saga','lbfgs'],\n",
    "             'classifier__C':np.linspace(1,10,50),\n",
    "             'preprocessor__gamma':np.linspace(2,5,50)\n",
    "             }\n",
    "X_train, X_test, y_train, y_test = train_test_split(transform, y, test_size=0.2)\n",
    "grid_search = GridSearchCV(clf, param_grid, cv=5)#,verbose=5)\n",
    "\n",
    "grid_search.fit(X_train, y_train)\n",
    "print((\"best score from grid search: %.3f\"\n",
    "                   % grid_search.score(X_test, y_test)))\n",
    "print(grid_search.best_params_)"
   ]
  },
  {
   "cell_type": "markdown",
   "metadata": {},
   "source": [
    "Добился результатов :best score from grid search: 0.854\n",
    "{'classifier__C': 6.327, 'classifier__solver': 'sag', 'preprocessor__gamma': 2.0}"
   ]
  },
  {
   "cell_type": "markdown",
   "metadata": {},
   "source": [
    "### Упражнение 2. Наивный байесовский классификатор\n",
    "\n",
    "В библиотеке Sklearn есть \n",
    "\n",
    "- класс [`GaussianNB`](https://scikit-learn.org/stable/modules/generated/sklearn.naive_bayes.GaussianNB.html#sklearn.naive_bayes.GaussianNB) для признаков, распределенных по Гауссу;\n",
    "\n",
    "- класс [`MultinomialNB`](https://scikit-learn.org/stable/modules/generated/sklearn.naive_bayes.MultinomialNB.html#sklearn.naive_bayes.MultinomialNB) для призкаков, подчиняющихся мультиномиальному распределению;\n",
    "\n",
    "- класс [`BernoulliNB`](https://scikit-learn.org/stable/modules/generated/sklearn.naive_bayes.BernoulliNB.html#sklearn.naive_bayes.BernoulliNB), который рассматривает каждый признак, как распределенный по Бернулли;\n",
    "\n",
    "- класс [`CategoricalNB`](https://scikit-learn.org/stable/modules/generated/sklearn.naive_bayes.CategoricalNB.html#sklearn.naive_bayes.CategoricalNB) для классических категориальных признаков (значение признака не счетчик, как в классификации спама, а какой-то элемент неупорядоченного множества, например {Екатеринбург, Москва, Санкт-Петербург}).\n",
    "\n",
    "Примените к датасету [Heart](https://archive.ics.uci.edu/ml/datasets/Statlog+%28Heart%29) наивный байесовский классификатор. Для этого выберите подходящую модель  из перечисленных выше. В датасете есть категориальные и числовые признаки. Есть 2 способа комбинировать числовые признаки с категориальными:\n",
    "\n",
    "- дискретизация числовых признаков,\n",
    "\n",
    "- объединенеие гауссовского классификатора для числовых признаков с дискретной моделью для категориальных признаков.\n",
    "\n",
    "Второй подход работает так:\n",
    "\n",
    "- обучаются 2 классификатора &mdash; один на категориальных признаках, а другой &mdash; на числовых,\n",
    "\n",
    "- параметры обоих классификаторов (условные вероятности признаков) используются для предсказания.\n",
    "\n",
    "Второй подход можно применять для объединения любых байесовских классификаторов. Например, если часть признаков подчиняется мультиномиаольному распределению, а часть распределению Бернулли.\n",
    "\n",
    "Сравните эффективность методов в задаче классификации на датасете Heart.\n",
    "\n",
    ">Используя методы и атрибуты классов `sklearn`, можно объединить модели по крайней мере 2мя способоами. Любое решение в предположении, что признаки условно независимы, засчитывается.\n",
    "\n",
    ">При решении задачи могут пригодиться классы [`OrdinalEncoder`](https://scikit-learn.org/stable/modules/generated/sklearn.preprocessing.OrdinalEncoder.html), [`KBinsDiscretizer`](https://scikit-learn.org/stable/auto_examples/preprocessing/plot_discretization.html#sphx-glr-auto-examples-preprocessing-plot-discretization-py). Рекомендуется использовать [пайплайны](https://scikit-learn.org/stable/modules/generated/sklearn.pipeline.Pipeline.html#sklearn.pipeline.Pipeline), включающие саму модель, дискретизацию, нормализацию или другие подготовительные действия. Чтобы индивидуально работать с признаками разных типов в рамках пайплайна, подойдет [`ColumnTransformer`](https://scikit-learn.org/stable/modules/generated/sklearn.compose.ColumnTransformer.html). К моделям на основе классов `Pipeline` и `ColumnTransformer` можно [применять](https://scikit-learn.org/stable/modules/compose.html#pipeline-nested-parameters) `GridSearch`.\n",
    "\n",
    ">Код для скачивания датасета внизу."
   ]
  },
  {
   "cell_type": "code",
   "execution_count": 10,
   "metadata": {},
   "outputs": [],
   "source": [
    "train_url = 'https://raw.githubusercontent.com/PeganovAnton/ml-datasets/master/heart_disease/train.csv'\n",
    "train_df = pd.read_csv(train_url)"
   ]
  },
  {
   "cell_type": "code",
   "execution_count": 11,
   "metadata": {},
   "outputs": [],
   "source": [
    "test_url = 'https://raw.githubusercontent.com/PeganovAnton/ml-datasets/master/heart_disease/test.csv'\n",
    "test_df = pd.read_csv(test_url)"
   ]
  },
  {
   "cell_type": "code",
   "execution_count": 12,
   "metadata": {},
   "outputs": [],
   "source": [
    "categorical_indices = [1, 2, 5, 6, 8, 10, 11, 12]\n",
    "numerical_indices = [0, 3, 4, 7, 9]"
   ]
  },
  {
   "cell_type": "code",
   "execution_count": 13,
   "metadata": {},
   "outputs": [],
   "source": [
    "numerical = []\n",
    "for i in numerical_indices:\n",
    "    numerical.append(train_df.columns[i])\n",
    "\n",
    "categorical = []\n",
    "for i in categorical_indices:\n",
    "    categorical.append(train_df.columns[i])"
   ]
  },
  {
   "cell_type": "code",
   "execution_count": 14,
   "metadata": {},
   "outputs": [],
   "source": [
    "#подготовим данные для подбора оптимальной модели описывающей распределение числовых признаков\n",
    "train_X = train_df.drop(['class'], axis=1)\n",
    "train_y = train_df['class']\n",
    "test_X = test_df.drop(['class'], axis=1)\n",
    "test_y = test_df['class']"
   ]
  },
  {
   "cell_type": "code",
   "execution_count": 16,
   "metadata": {},
   "outputs": [
    {
     "name": "stdout",
     "output_type": "stream",
     "text": [
      "{'Набор количественных признаков:': ['age', 'cholestoral', 'heart rate', 'oldpeak'], 'Нормализатор': StandardScaler(copy=True, with_mean=True, with_std=True), 'Модель:': 'BernoulliNB()', 'test_data_score:': 0.7777777777777778}\n"
     ]
    }
   ],
   "source": [
    "from sklearn.model_selection import cross_val_score\n",
    "from itertools import combinations\n",
    "from sklearn.compose import ColumnTransformer\n",
    "from sklearn.preprocessing import StandardScaler, MinMaxScaler, \\\n",
    "    RobustScaler, QuantileTransformer, PowerTransformer\n",
    "from sklearn.preprocessing import OrdinalEncoder\n",
    "from sklearn.naive_bayes import CategoricalNB, MultinomialNB, \\\n",
    "    GaussianNB, BernoulliNB\n",
    "import re\n",
    "\n",
    "#создадим список лучших параметров\n",
    "dict_of_best_params = {'Набор количественных признаков:':0,'Нормализатор':0,\n",
    "                              'Модель:':0,'test_data_score:':int(0)}\n",
    "scalers =  [\"MinMaxScaler\" ,\"StandardScaler\", \"RobustScaler\", \n",
    "            \"QuantileTransformer\", \"PowerTransformer\"]\n",
    "\n",
    "#создадим список комбинаций числовых признаков для выбора модели\n",
    "#комбинации включают в себя все возможные начиная от одного признака \n",
    "res = []\n",
    "for sub in range(7):\n",
    "    res.extend(combinations(numerical, sub + 1))\n",
    "for i in res:\n",
    "    i = re.sub('[\\\\()[\\\\]\\'\"]', str(i))\n",
    "    men = []\n",
    "#долго мучался с лишними кавычками-лучше этого решения не придумал\n",
    "    number_step = 0\n",
    "    for el in lst:\n",
    "        \n",
    "        el = el.rstrip('\\'').lstrip('\\'').rstrip('\\\"').lstrip('\\\"').lstrip(' ')\n",
    "        men.append(el)\n",
    "\n",
    "        for scaler in scalers:\n",
    "            if scaler==\"MinMaxScaler\":\n",
    "                num_transformer = MinMaxScaler()\n",
    "            elif scaler==\"StandardScaler\":\n",
    "                num_transformer = StandardScaler()\n",
    "            elif scaler==\"RobustScaler\":\n",
    "                num_transformer = RobustScaler()\n",
    "            elif scaler==\"QuantileTransformer\":\n",
    "                num_transformer = QuantileTransformer(output_distribution='normal')\n",
    "            else:\n",
    "                num_transformer = PowerTransformer('yeo-johnson')\n",
    "\n",
    "#примемяем ColumnTransformer               \n",
    "            preprocessor_for_num = ColumnTransformer([('num',num_transformer, men)])\n",
    "#создаем список моделей для последующего обхода этого списка в цикле    \n",
    "            classifier = ['GaussianNB()','MultinomialNB()','BernoulliNB()']\n",
    "#для каждого по очередно               \n",
    "            for clf in classifier:\n",
    "#применяется Pipeline первый шаг в котором предобработка(нормализация), второй-само обучение\n",
    "                if clf=='GaussianNB()':\n",
    "                    num_classification = \\\n",
    "                    Pipeline(steps=[('num_preprocessor', preprocessor_for_num),\n",
    "                               ('GaussianNB()', GaussianNB())])\n",
    "                elif clf=='MultinomialNB()':\n",
    "                    num_classification = \\\n",
    "                    Pipeline(steps=[('num_preprocessor', preprocessor_for_num),\n",
    "                               ('MultinomialNB()', MultinomialNB())])\n",
    "                elif clf=='BernoulliNB()':\n",
    "                    num_classification = \\\n",
    "                    Pipeline(steps=[('num_preprocessor', preprocessor_for_num),\n",
    "                               ('BernoulliNB()', BernoulliNB())])\n",
    "#в процессе обучения выяснилос, что при применении MultinomialNB() если есть отрицательные значения\n",
    "#вылетает ошибка ValueError Negative values in data passed to MultinomialNB (input X)\n",
    "#обходим ее через обработку исключений\n",
    "                try:\n",
    "                    num_classification.fit(train_X, train_y)\n",
    "                    score = num_classification.score(test_X, test_y)\n",
    "                except ValueError:\n",
    "                    continue\n",
    "#далее обновляем значения в словаре-по условию что каждый последующий score(test_X, test_y)\n",
    "#сравнивается с предыдущим по принципу-если больше, то максимален\n",
    "                if dict_of_best_params[\"test_data_score:\"]<=score:\n",
    "                    dict_of_best_params[\"test_data_score:\"]=score\n",
    "                    dict_of_best_params['Модель:']=clf\n",
    "                    dict_of_best_params['Нормализатор']=num_transformer   \n",
    "                    dict_of_best_params['Набор количественных признаков:']=men\n",
    "            number_step+=1\n",
    "#выводим на печать лучшие параметры    \n",
    "print(dict_of_best_params)"
   ]
  },
  {
   "cell_type": "code",
   "execution_count": 18,
   "metadata": {},
   "outputs": [],
   "source": [
    "#теперь подготовим данные для объединения моделей\n",
    "new_data = pd.concat([train_df, test_df])\n",
    "X = new_data.drop(['class'], axis=1)\n",
    "y = new_data['class']"
   ]
  },
  {
   "cell_type": "code",
   "execution_count": 23,
   "metadata": {},
   "outputs": [
    {
     "name": "stdout",
     "output_type": "stream",
     "text": [
      "Accuracy: 0.84 (+/- 0.04) [StackingCVClassifier]\n"
     ]
    }
   ],
   "source": [
    "from mlxtend.classifier import StackingClassifier\n",
    "from mlxtend.feature_selection import ColumnSelector\n",
    "from sklearn.pipeline import make_pipeline\n",
    "from mlxtend.classifier import StackingCVClassifier\n",
    "from sklearn import model_selection\n",
    "\n",
    "#для категориальных будем использовать OrdinalEncoder()\n",
    "categorial_transformer = OrdinalEncoder()\n",
    "preprocessor_for_cat = ColumnTransformer(\n",
    "    [('cat', categorial_transformer,categorical)])\n",
    "cat_transform = preprocessor_for_cat.fit_transform(X)\n",
    "#заменим в датасете на категориальные признаки после трансформации\n",
    "for i in range(0,8):\n",
    "    X[categorical[i]] = cat_transform[:,i]\n",
    "#из предыдущей ячейки возмем лучшие полученнные значения для числовых признаков \n",
    "num_transformer = StandardScaler()\n",
    "numerical = ['age', 'cholestoral', 'heart rate', 'oldpeak']\n",
    "preprocessor_for_cat = ColumnTransformer(\n",
    "    [('num', num_transformer,numerical)])\n",
    "num_transform = preprocessor_for_cat.fit_transform(X)\n",
    "#заменим в датасете на числовые признаки после трансформации\n",
    "for i in range(0,4):\n",
    "    X[numerical[i]] = num_transform[:,i]\n",
    "clf_cat = CategoricalNB()\n",
    "clf_num = BernoulliNB()\n",
    "#первый pipeline для категориальных, второй для числовых\n",
    "pipe1 = make_pipeline(ColumnSelector(cols=categorical),\n",
    "                      CategoricalNB())\n",
    "pipe2 = make_pipeline(ColumnSelector(cols=numerical),\n",
    "                      BernoulliNB())\n",
    "# объединяем pipeline \n",
    "sclf = StackingCVClassifier(classifiers=[pipe1, pipe2], \n",
    "                            meta_classifier=GaussianNB(),\n",
    "                            use_probas=True,random_state=42)\n",
    "\n",
    "scores = model_selection.cross_val_score(sclf, X, y, \n",
    "                                              cv=5, scoring='accuracy')\n",
    "print(\"Accuracy: %0.2f (+/- %0.2f) [%s]\" \n",
    "          % (scores.mean(), scores.std(), 'StackingCVClassifier'))"
   ]
  },
  {
   "cell_type": "markdown",
   "metadata": {},
   "source": [
    "### Упражнение 3\n",
    "\n",
    "1. Попробуйте разные способы работы с недостающими признаками: удаление, присвоение наиболее правдоподобного значения, введение новой категории `'<UNK>'` для недостающих признаков.\n",
    "\n",
    "- Попробуйте разные методы подготовки признаков.\n",
    "\n",
    "- Примените SVM к датасету [Adult](https://archive.ics.uci.edu/ml/datasets/Adult), попробуйте все доступные ядра, подберите для них параметры.\n",
    "\n",
    "- Подберите лучшую модель для датасета Adult."
   ]
  },
  {
   "cell_type": "code",
   "execution_count": 2,
   "metadata": {},
   "outputs": [],
   "source": [
    "train_url = 'https://raw.githubusercontent.com/PeganovAnton/ml-datasets/master/adult/train.csv'\n",
    "train_df = pd.read_csv(train_url)"
   ]
  },
  {
   "cell_type": "code",
   "execution_count": 3,
   "metadata": {},
   "outputs": [],
   "source": [
    "test_url = 'https://raw.githubusercontent.com/PeganovAnton/ml-datasets/master/adult/test.csv'\n",
    "test_df = pd.read_csv(test_url)"
   ]
  },
  {
   "cell_type": "code",
   "execution_count": 4,
   "metadata": {},
   "outputs": [],
   "source": [
    "#заменим целевой признак на булевые значения\n",
    "#больше 50К-1,меньше либо равно- 0\n",
    "train_df['class'] = (train_df['class'] == '>50K').astype(int)\n",
    "test_df['class'] = (test_df['class'] == '>50K').astype(int)\n",
    "#объединяем датасет для удобства кодирования\n",
    "new_data = pd.concat([train_df, test_df])\n",
    "new_data = new_data.drop([19609])\n",
    "X = new_data.drop(['class'], axis=1)\n",
    "y = new_data['class']"
   ]
  },
  {
   "cell_type": "code",
   "execution_count": 5,
   "metadata": {},
   "outputs": [],
   "source": [
    "#вычисления приходят долго, поэтому решил немного сэкономить на памяти\n",
    "#переведем тип object в category\n",
    "#копируем фрейм\n",
    "copy_data = new_data.copy()\n",
    "#создаем пустой датафрейм\n",
    "converted_data = pd.DataFrame()\n",
    "#пишем цикл, который перебирает каждый столбец object,\n",
    "#проверяет его на соответствие заданному порогу\n",
    "#(количество уникальных значений должно быть меньше 50%\n",
    "#от общего количества значений) и, если столбец \n",
    "#удовлетворяет порогу, преобразовывает его в тип category\n",
    "for col in copy_data.columns:\n",
    "    num_unique_values = len(copy_data[col].unique())\n",
    "    num_total_values = len(copy_data[col])\n",
    "    if num_unique_values / num_total_values < 0.5:\n",
    "        converted_data.loc[:,col] = copy_data[col].astype('category')\n",
    "    else:\n",
    "        converted_data.loc[:,col] = copy_data[col]\n",
    "#делим признаки на категориальные и числовые\n",
    "categorical_indices = [1, 3, 5, 6, 7, 8, 9, 13]\n",
    "numerical_indices = [0, 2, 4, 10, 11, 12]\n",
    "numerical = []\n",
    "for i in numerical_indices:\n",
    "    numerical.append(train_df.columns[i])\n",
    "\n",
    "categorical = []\n",
    "for i in categorical_indices:\n",
    "    categorical.append(train_df.columns[i])\n",
    "not_full_feats = []\n",
    "n_a_indices = [1, 6, 13]\n",
    "for i in n_a_indices:\n",
    "    not_full_feats.append(train_df.columns[i])"
   ]
  },
  {
   "cell_type": "code",
   "execution_count": null,
   "metadata": {},
   "outputs": [],
   "source": [
    "warnings.filterwarnings(\"ignore\")\n",
    "from sklearn.model_selection import RandomizedSearchCV\n",
    "import category_encoders\n",
    "from sklearn.compose import ColumnTransformer\n",
    "from sklearn.preprocessing import StandardScaler, MinMaxScaler, \\\n",
    "    RobustScaler, QuantileTransformer, PowerTransformer\n",
    "from sklearn.model_selection import train_test_split\n",
    "from sklearn.svm import SVC\n",
    "from sklearn.preprocessing import OneHotEncoder\n",
    "\n",
    "#создаем список нормализаторов, список кодировщиков\n",
    "scalers =  [\"MinMaxScaler\" ,\"StandardScaler\", \"RobustScaler\", \\\n",
    "            \"QuantileTransformer\", \"PowerTransformer\"]\n",
    "encoders = ['OneHotEncoder()' ,'category_encoders.woe.WOEEncoder()']\n",
    "#список видов предобработки \n",
    "#drop_na_feats-удаление признаков с пропусками\n",
    "#replace_na_unk-замена ? на '<UNK>'\n",
    "steps_data_preprocessing = ['drop_na_feats', 'replace_na_unk']\n",
    "\n",
    "#словарь для хранения лучших параметров \n",
    "dict_of_best_params = {'Preproccess_data:':0,'Category_encoder:':0,\n",
    "                       'Scaler:':0,'Kernel:':0,\n",
    "                        'test_data_score:':int(0)}\n",
    "#по очереди перебираем виды предобработки\n",
    "for step in steps_data_preprocessing:\n",
    "    if step=='drop_na_feats':\n",
    "        mod_X = converted_data.drop(['class'], axis=1)\n",
    "        mod_X = mod_X.drop(not_full_feats, axis=1)\n",
    "        categorical = [ 'education', 'marital_status', \n",
    "                       'relationship', 'race', 'sex']\n",
    "    else:\n",
    "        for feat in not_full_feats:\n",
    "            mod_X = converted_data.drop(['class'], axis=1)\n",
    "            mod_X[feat] = np.where(mod_X[feat] == '?', '<UNK>', mod_X[feat])\n",
    "            categorical = ['workclass','education','marital_status',\n",
    "                           'occupation','relationship','race','sex','native-country']\n",
    "#далее по очереди перебираем нормализаторы и категориальные энкодеры\n",
    "    for encoder in encoders:\n",
    "        if encoder=='OneHotEncoder()' :\n",
    "            pipe1 =  OneHotEncoder()\n",
    "        else:\n",
    "            pipe1 =  category_encoders.woe.WOEEncoder()\n",
    "        for scaler in scalers:\n",
    "            if scaler==\"MinMaxScaler\":\n",
    "                pipe2 = MinMaxScaler()\n",
    "            elif scaler==\"StandardScaler\":\n",
    "                pipe2 = StandardScaler()\n",
    "            elif scaler==\"RobustScaler\":\n",
    "                pipe2 = RobustScaler()\n",
    "            elif scaler==\"QuantileTransformer\":\n",
    "                pipe2 = QuantileTransformer(output_distribution='normal')\n",
    "            else:\n",
    "                pipe2 = PowerTransformer('yeo-johnson')\n",
    "#применяем ColumnTransformer \n",
    "            preprocessor = ColumnTransformer(\n",
    "                transformers=[\n",
    "                    ('num', pipe2, numerical),\n",
    "                    ('cat', pipe1, categorical)])\n",
    "#пайплайн для предобработки и последующей передачи в RandomizedSearchCV\n",
    "            clf = Pipeline(steps=[('preprocessor', preprocessor),\n",
    "                                    ('classifier', SVC(gamma='auto'))])\n",
    "#в параметры передаем только ядра \n",
    "            param_grid = {'classifier__kernel': ['linear','poly', 'rbf', 'sigmoid']}\n",
    "            X_train, X_test, y_train, y_test = train_test_split(mod_X, y, test_size=0.2)\n",
    "            grid_search = RandomizedSearchCV(clf, param_grid, cv=3)#,verbose=10)\n",
    "            grid_search.fit(X_train, y_train)\n",
    "            score = grid_search.score(X_test, y_test)\n",
    "#далее обновляем значения в словаре-по условию что каждый последующий score(test_X, test_y)\n",
    "#сравнивается с предыдущим по принципу-если больше, то максимален\n",
    "            if dict_of_best_params[\"test_data_score:\"]<=score:\n",
    "                dict_of_best_params[\"test_data_score:\"]=score\n",
    "                dict_of_best_params['Preproccess_data:']=step\n",
    "                dict_of_best_params['Category_encoder:']=pipe1     \n",
    "                dict_of_best_params['Scaler:']=pipe2\n",
    "                dict_of_best_params['Kernel:']=grid_search.best_params_['classifier__kernel']\n",
    "            \n",
    "#выводим лучшие параметры            \n",
    "print(dict_of_best_params)"
   ]
  },
  {
   "cell_type": "markdown",
   "metadata": {},
   "source": [
    "Лучшие параметры 0.849 достигаются при Category_encoder-WOE, Scaler-StandartScaler, kernel-rbf "
   ]
  },
  {
   "cell_type": "code",
   "execution_count": 12,
   "metadata": {},
   "outputs": [],
   "source": [
    "#теперь попробуем подобрать С и gamma\n",
    "warnings.filterwarnings(\"ignore\")\n",
    "from sklearn.model_selection import RandomizedSearchCV\n",
    "import category_encoders\n",
    "from sklearn.compose import ColumnTransformer\n",
    "from sklearn.preprocessing import StandardScaler, MinMaxScaler, \\\n",
    "    RobustScaler, QuantileTransformer, PowerTransformer\n",
    "from sklearn.model_selection import train_test_split\n",
    "from sklearn.svm import SVC\n",
    "from sklearn.preprocessing import OneHotEncoder\n",
    "mod_X = converted_data.drop(['class'], axis=1)\n",
    "for feat in not_full_feats:\n",
    "    mod_X[feat] = np.where(mod_X[feat] == '?', '<UNK>', mod_X[feat])\n",
    "categorical = ['workclass','education','marital_status',\n",
    "               'occupation','relationship','race','sex','native-country']\n",
    "pipe1 =  category_encoders.woe.WOEEncoder()\n",
    "pipe2 = StandardScaler()\n",
    "preprocessor = ColumnTransformer(\n",
    "                transformers=[\n",
    "                    ('num', pipe2, numerical),\n",
    "                    ('cat', pipe1, categorical)])\n",
    "#пайплайн для предобработки и последующей передачи в RandomizedSearchCV\n",
    "clf = Pipeline(steps=[('preprocessor', preprocessor),\n",
    "                                    ('classifier', SVC())])\n",
    "param_grid = {'classifier__kernel': ['rbf'],\n",
    "             'classifier__C':[1,0.1],\n",
    "             'classifier__gamma':[0.125,0.13,0.135,0.14]\n",
    "             }\n",
    "X_train, X_test, y_train, y_test = train_test_split(mod_X, y, test_size=0.2)\n",
    "grid_search = RandomizedSearchCV(clf, param_grid, cv=3)#,verbose=10)\n",
    "grid_search.fit(X_train, y_train)\n",
    "print((\"best score from grid search: %.3f\"\n",
    "                   % grid_search.score(X_test, y_test)))\n",
    "print(grid_search.best_params_)"
   ]
  },
  {
   "cell_type": "markdown",
   "metadata": {},
   "source": [
    "Наилучшие параметры:\n",
    "best score from grid search: 0.857  \n",
    "{'classifier__kernel': 'rbf', 'classifier__gamma': 0.135, 'classifier__C': 1}"
   ]
  },
  {
   "cell_type": "code",
   "execution_count": null,
   "metadata": {},
   "outputs": [],
   "source": []
  }
 ],
 "metadata": {
  "kernelspec": {
   "display_name": "Python 3",
   "language": "python",
   "name": "python3"
  },
  "language_info": {
   "codemirror_mode": {
    "name": "ipython",
    "version": 3
   },
   "file_extension": ".py",
   "mimetype": "text/x-python",
   "name": "python",
   "nbconvert_exporter": "python",
   "pygments_lexer": "ipython3",
   "version": "3.7.6"
  }
 },
 "nbformat": 4,
 "nbformat_minor": 4
}
